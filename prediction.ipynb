{
  "nbformat": 4,
  "nbformat_minor": 0,
  "metadata": {
    "colab": {
      "name": "prediction.ipynb",
      "provenance": []
    },
    "kernelspec": {
      "name": "python3",
      "display_name": "Python 3"
    }
  },
  "cells": [
    {
      "cell_type": "code",
      "metadata": {
        "id": "JVca8a6AQ_SI",
        "colab_type": "code",
        "colab": {}
      },
      "source": [
        "import pandas as pd\n",
        "import numpy as np\n",
        "import seaborn as sns\n",
        "import matplotlib.pyplot as plt\n",
        "from keras.preprocessing.sequence import pad_sequences\n",
        "from keras.utils import to_categorical\n",
        "from sklearn.preprocessing import LabelEncoder\n",
        "from keras.models import Sequential\n",
        "from keras.layers import Dense\n",
        "from keras.layers import LSTM\n",
        "from keras.layers import LSTM, Dense, Bidirectional, BatchNormalization, Dropout\n",
        "from keras import optimizers\n",
        "from sklearn.model_selection import train_test_split\n",
        "from keras.models import load_model"
      ],
      "execution_count": 0,
      "outputs": []
    },
    {
      "cell_type": "code",
      "metadata": {
        "id": "imlEXSOcT4vK",
        "colab_type": "code",
        "colab": {
          "base_uri": "https://localhost:8080/",
          "height": 411
        },
        "outputId": "027e7842-3449-478d-c12c-2f883bc8ba25"
      },
      "source": [
        "# load model\n",
        "model = load_model('weights-improvement-29-0.98.h5',compile=False)\n",
        "# compile model\n",
        "model.compile(loss='categorical_crossentropy', optimizer='adam', metrics=['accuracy'])\n",
        "# fit model\n",
        "# summarize model.\n",
        "model.summary()"
      ],
      "execution_count": 4,
      "outputs": [
        {
          "output_type": "stream",
          "text": [
            "WARNING:tensorflow:From /usr/local/lib/python3.6/dist-packages/keras/optimizers.py:793: The name tf.train.Optimizer is deprecated. Please use tf.compat.v1.train.Optimizer instead.\n",
            "\n",
            "WARNING:tensorflow:From /usr/local/lib/python3.6/dist-packages/keras/backend/tensorflow_backend.py:3576: The name tf.log is deprecated. Please use tf.math.log instead.\n",
            "\n",
            "Model: \"sequential_1\"\n",
            "_________________________________________________________________\n",
            "Layer (type)                 Output Shape              Param #   \n",
            "=================================================================\n",
            "lstm_1 (LSTM)                (None, 250)               379000    \n",
            "_________________________________________________________________\n",
            "dropout_1 (Dropout)          (None, 250)               0         \n",
            "_________________________________________________________________\n",
            "dense_1 (Dense)              (None, 100)               25100     \n",
            "_________________________________________________________________\n",
            "dense_2 (Dense)              (None, 100)               10100     \n",
            "_________________________________________________________________\n",
            "dense_3 (Dense)              (None, 4)                 404       \n",
            "=================================================================\n",
            "Total params: 414,604\n",
            "Trainable params: 414,604\n",
            "Non-trainable params: 0\n",
            "_________________________________________________________________\n"
          ],
          "name": "stdout"
        }
      ]
    },
    {
      "cell_type": "code",
      "metadata": {
        "id": "uzNMlLP0WbG_",
        "colab_type": "code",
        "colab": {}
      },
      "source": [
        "import pickle\n",
        "with open(\"mapping.pickle\", \"rb\") as f:\n",
        "    mapping = pickle.load(f)"
      ],
      "execution_count": 0,
      "outputs": []
    },
    {
      "cell_type": "code",
      "metadata": {
        "id": "OQoX4YshUxQg",
        "colab_type": "code",
        "colab": {}
      },
      "source": [
        "testing_filename=\"equations1.csv\""
      ],
      "execution_count": 0,
      "outputs": []
    },
    {
      "cell_type": "code",
      "metadata": {
        "id": "xr6mtAdkVO2-",
        "colab_type": "code",
        "colab": {}
      },
      "source": [
        "def get_test_data(filename):\n",
        "  testing = pd.read_csv(filename)\n",
        "  test_eqs=testing.math[:]\n",
        "  test_sequences = list()\n",
        "  for eq in test_eqs:\n",
        "    # integer encode line\n",
        "    encoded_seq = [mapping[char] for char in eq]\n",
        "    # store\n",
        "    test_sequences.append(encoded_seq)\n",
        "  test_padded = pad_sequences(test_sequences, padding='post',value=mapping[\"?\"],maxlen=50)\n",
        "  test_sequences = [to_categorical(x, num_classes=128) for x in test_padded]\n",
        "  X_predict = np.array(test_sequences)\n",
        "  return X_predict,test_eqs"
      ],
      "execution_count": 0,
      "outputs": []
    },
    {
      "cell_type": "code",
      "metadata": {
        "id": "xH4eeJ6EVlLC",
        "colab_type": "code",
        "colab": {}
      },
      "source": [
        "X_predict,test_eqs=get_test_data(testing_filename)"
      ],
      "execution_count": 0,
      "outputs": []
    },
    {
      "cell_type": "code",
      "metadata": {
        "id": "uSaQEqwDVw_J",
        "colab_type": "code",
        "colab": {}
      },
      "source": [
        "y_pred=model.predict_classes(X_predict)"
      ],
      "execution_count": 0,
      "outputs": []
    },
    {
      "cell_type": "code",
      "metadata": {
        "id": "_kU_THHbWxtv",
        "colab_type": "code",
        "colab": {}
      },
      "source": [
        "class_names=[\"Unknown\",\"Simple\",\"Linear Equation for degree one\",\"Fraction\"]"
      ],
      "execution_count": 0,
      "outputs": []
    },
    {
      "cell_type": "code",
      "metadata": {
        "id": "CsXCggSqWrd3",
        "colab_type": "code",
        "colab": {}
      },
      "source": [
        "y_pred_class=[class_names[3-y] for y in y_pred]"
      ],
      "execution_count": 0,
      "outputs": []
    },
    {
      "cell_type": "code",
      "metadata": {
        "id": "l1JCxTXUWtVo",
        "colab_type": "code",
        "colab": {}
      },
      "source": [
        "df = pd.DataFrame(list(zip(list(test_eqs), y_pred_class)), \n",
        "               columns =['Math', 'Class']) "
      ],
      "execution_count": 0,
      "outputs": []
    },
    {
      "cell_type": "code",
      "metadata": {
        "id": "Yfj9_B7FW8lW",
        "colab_type": "code",
        "colab": {}
      },
      "source": [
        "export_csv = df.to_csv (r'prediction.csv', index = None, header=True)"
      ],
      "execution_count": 0,
      "outputs": []
    },
    {
      "cell_type": "code",
      "metadata": {
        "id": "SvCYtMdJXF9N",
        "colab_type": "code",
        "colab": {}
      },
      "source": [
        ""
      ],
      "execution_count": 0,
      "outputs": []
    }
  ]
}